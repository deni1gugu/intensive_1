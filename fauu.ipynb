{
  "cells": [
    {
      "cell_type": "code",
      "execution_count": null,
      "metadata": {
        "id": "68Rbpex2s3S_"
      },
      "outputs": [],
      "source": [
        "import pandas as pd\n",
        "import numpy as np\n",
        "import matplotlib.pyplot as plt\n",
        "import seaborn as sns\n",
        "\n",
        "def check_and_handle_data(df):\n",
        "    \"\"\"\n",
        "    Проверка данных на пропуски, выбросы и ошибки, обработка аномалий.\n",
        "\n",
        "    Args:\n",
        "        df (pd.DataFrame): DataFrame с данными.\n",
        "\n",
        "    Returns:\n",
        "        pd.DataFrame: DataFrame с обработанными данными.\n",
        "    \"\"\"\n",
        "\n",
        "    # 1. Проверка на пропуски:\n",
        "    print(\"Пропуски в данных:\")\n",
        "    print(df.isnull().sum())  # Вывод количества пропусков по столбцам\n",
        "\n",
        "    # Заполнение пропусков (в зависимости от типа данных):\n",
        "    # - Числовые столбцы: средним значением или медианой\n",
        "    for col in df.select_dtypes(include=np.number):\n",
        "        df[col].fillna(df[col].mean(), inplace=True)  # Замена пропусков средним\n",
        "    # - Текстовые столбцы: \"Unknown\" или другим подходящим значением\n",
        "    for col in df.select_dtypes(include=object):\n",
        "        df[col].fillna(\"Unknown\", inplace=True)\n",
        "\n",
        "    # 2. Проверка на выбросы:\n",
        "    print(\"\\nПроверка на выбросы:\")\n",
        "    for col in df.select_dtypes(include=np.number):\n",
        "        Q1 = df[col].quantile(0.25)\n",
        "        Q3 = df[col].quantile(0.75)\n",
        "        IQR = Q3 - Q1\n",
        "        lower_bound = Q1 - 1.5 * IQR\n",
        "        upper_bound = Q3 + 1.5 * IQR\n",
        "        print(f\"Выбросы в '{col}':\")\n",
        "        print(f\"  Нижняя граница: {lower_bound}\")\n",
        "        print(f\"  Верхняя граница: {upper_bound}\")\n",
        "        df = df[(df[col] >= lower_bound) & (df[col] <= upper_bound)]  # Удаление выбросов\n",
        "\n",
        "    # 3. Проверка на ошибки:\n",
        "    #  - Проверка типа данных:\n",
        "    #     - Преобразование в нужный тип данных, если это возможно (например, \"Номер телефона\" в числовой)\n",
        "    #     - Проверка значений на соответствие ограничениям (например, \"Количество комнат\" > 0)\n",
        "    #  - Проверка на дубликаты:\n",
        "    #     - Удаление дубликатов, если они есть\n",
        "    #  - Проверка на некорректные значения:\n",
        "    #     - Замена некорректных значений на \"Unknown\" или на значение по умолчанию\n",
        "    #  - Проверка на логические ошибки:\n",
        "    #     - Проверка на несоответствие значений в разных столбцах (например, \"Площадь\" < \"Количество комнат\")\n",
        "\n",
        "    # ... (Добавьте свою логику проверки и обработки ошибок)\n",
        "\n",
        "    print(\"\\nДанные проверены и обработаны.\")\n",
        "    return df\n",
        "\n",
        "# Пример использования:\n",
        "df = pd.read_csv(\"dataa.csv\")\n",
        "df = check_and_handle_data(df)"
      ]
    },
    {
      "cell_type": "code",
      "execution_count": null,
      "metadata": {
        "id": "VnRCjEfSs3TA"
      },
      "outputs": [],
      "source": [
        "import pandas as pd\n",
        "import matplotlib.pyplot as plt\n",
        "import seaborn as sns\n",
        "\n",
        "# Загружаем данные из CSV-файла\n",
        "df = pd.read_csv('cian_parsing.csv', header=None, names=[\n",
        "    \"Компания\", \"Тип\", \"Город\", \"Тип сделки\", \"Тип объекта\", \"Этажность\", \"Количество комнат\", \"Площадь (кв.м)\",\n",
        "    \"Цена (руб.)\", \"Район\", \"Улица\", \"Дом\", \"Станция метро\", \"ЖК\"\n",
        "], sep=\",\", on_bad_lines='warn')\n",
        "\n",
        "\n"
      ]
    },
    {
      "cell_type": "code",
      "execution_count": null,
      "metadata": {
        "id": "v0JVBcJts3TA"
      },
      "outputs": [],
      "source": [
        "import pandas as pd\n",
        "import matplotlib.pyplot as plt\n",
        "import seaborn as sns\n",
        "\n",
        "# Загружаем данные из CSV-файла\n",
        "df = pd.read_csv('cian_parsing.csv', header=None, names=[\n",
        "    \"Компания\", \"Тип\", \"Город\", \"Тип сделки\", \"Тип объекта\", \"Этажность\", \"Количество комнат\", \"Площадь (кв.м)\",\n",
        "    \"Цена (руб.)\", \"Район\", \"Улица\", \"Дом\", \"Станция метро\", \"ЖК\"\n",
        "], sep=\",\", on_bad_lines='warn')\n",
        "\n",
        "\n",
        "# Преобразуем столбцы в числовые типы\n",
        "df['Этажность'] = df['Этажность'].astype(int)\n",
        "df['Количество комнат'] = df['Количество комнат'].astype(int)\n",
        "df['Площадь (кв.м)'] = df['Площадь (кв.м)'].astype(float)\n",
        "df['Цена (руб.)'] = df['Цена (руб.)'].astype(float)\n",
        "\n",
        "# Гистограммы числовых признаков\n",
        "plt.figure(figsize=(12, 8))\n",
        "\n",
        "plt.subplot(2, 2, 1)\n",
        "sns.histplot(df['Этажность'], kde=True)\n",
        "plt.title('Гистограмма этажности')\n",
        "\n",
        "plt.subplot(2, 2, 2)\n",
        "sns.histplot(df['Количество комнат'], kde=True)\n",
        "plt.title('Гистограмма количества комнат')\n",
        "\n",
        "plt.subplot(2, 2, 3)\n",
        "sns.histplot(df['Площадь (кв.м)'], kde=True)\n",
        "plt.title('Гистограмма площади')\n",
        "\n",
        "plt.subplot(2, 2, 4)\n",
        "sns.histplot(df['Цена (руб.)'], kde=True)\n",
        "plt.title('Гистограмма цены')\n",
        "\n",
        "plt.tight_layout()\n",
        "plt.show()\n",
        "\n",
        "# Зависимость цены от площади с учетом количества комнат\n",
        "plt.figure(figsize=(10, 6))\n",
        "sns.scatterplot(x='Площадь (кв.м)', y='Цена (руб.)', hue='Количество комнат', data=df)\n",
        "plt.title('Зависимость цены от площади с учетом количества комнат')\n",
        "plt.xlabel('Площадь (кв.м)')\n",
        "plt.ylabel('Цена (руб.)')\n",
        "plt.show()\n",
        "\n",
        "# KDE распределение площади жилья\n",
        "plt.figure(figsize=(8, 4))\n",
        "sns.kdeplot(df['Площадь (кв.м)'], shade=True)\n",
        "plt.title('KDE распределение площади жилья')\n",
        "plt.xlabel('Площадь (кв.м)')\n",
        "plt.show()"
      ]
    },
    {
      "cell_type": "code",
      "source": [
        "from google.colab import drive\n",
        "drive.mount('/content/drive')"
      ],
      "metadata": {
        "id": "o8iEZdWJthy4"
      },
      "execution_count": null,
      "outputs": []
    },
    {
      "cell_type": "code",
      "source": [],
      "metadata": {
        "id": "Nc5qPirOs8ii"
      },
      "execution_count": null,
      "outputs": []
    },
    {
      "cell_type": "markdown",
      "source": [
        "# Новый раздел"
      ],
      "metadata": {
        "id": "sWiJfasNtN-y"
      }
    }
  ],
  "metadata": {
    "kernelspec": {
      "display_name": ".venv",
      "language": "python",
      "name": "python3"
    },
    "language_info": {
      "codemirror_mode": {
        "name": "ipython",
        "version": 3
      },
      "file_extension": ".py",
      "mimetype": "text/x-python",
      "name": "python",
      "nbconvert_exporter": "python",
      "pygments_lexer": "ipython3",
      "version": "3.12.7"
    },
    "colab": {
      "provenance": []
    }
  },
  "nbformat": 4,
  "nbformat_minor": 0
}