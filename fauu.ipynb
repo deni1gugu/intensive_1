{
 "cells": [
  {
   "cell_type": "code",
   "execution_count": 3,
   "metadata": {},
   "outputs": [
    {
     "name": "stdout",
     "output_type": "stream",
     "text": [
      "Пропуски в данных:\n",
      "Дипломат                                       79\n",
      "developer                                      79\n",
      "https://krym.cian.ru/sale/flat/292125018/       0\n",
      "Москва и Московская область                     0\n",
      "sale                                            0\n",
      "flat                                            0\n",
      "2                                               0\n",
      "8                                               0\n",
      "2.1                                             0\n",
      "66.0                                           19\n",
      "-1                                           1318\n",
      "0                                            1307\n",
      "22622160                                      666\n",
      "Unnamed: 13                                   952\n",
      "Unnamed: 14                                  1638\n",
      "Unnamed: 15                                  5222\n",
      "Unnamed: 16                                  5571\n",
      "Резиденция Дипломат                          5382\n",
      "dtype: int64\n",
      "\n",
      "Проверка на выбросы:\n",
      "\n",
      "Данные проверены и обработаны.\n"
     ]
    },
    {
     "name": "stderr",
     "output_type": "stream",
     "text": [
      "C:\\Users\\personal computer\\AppData\\Local\\Temp\\ipykernel_20168\\2107046841.py:27: FutureWarning: A value is trying to be set on a copy of a DataFrame or Series through chained assignment using an inplace method.\n",
      "The behavior will change in pandas 3.0. This inplace method will never work because the intermediate object on which we are setting values always behaves as a copy.\n",
      "\n",
      "For example, when doing 'df[col].method(value, inplace=True)', try using 'df.method({col: value}, inplace=True)' or df[col] = df[col].method(value) instead, to perform the operation inplace on the original object.\n",
      "\n",
      "\n",
      "  df[col].fillna(\"Unknown\", inplace=True)\n"
     ]
    }
   ],
   "source": [
    "import pandas as pd \n",
    "import numpy as np \n",
    "import matplotlib.pyplot as plt \n",
    "import seaborn as sns \n",
    " \n",
    "def check_and_handle_data(df): \n",
    "    \"\"\" \n",
    "    Проверка данных на пропуски, выбросы и ошибки, обработка аномалий. \n",
    " \n",
    "    Args: \n",
    "        df (pd.DataFrame): DataFrame с данными. \n",
    " \n",
    "    Returns: \n",
    "        pd.DataFrame: DataFrame с обработанными данными. \n",
    "    \"\"\" \n",
    " \n",
    "    # 1. Проверка на пропуски: \n",
    "    print(\"Пропуски в данных:\") \n",
    "    print(df.isnull().sum())  # Вывод количества пропусков по столбцам \n",
    " \n",
    "    # Заполнение пропусков (в зависимости от типа данных): \n",
    "    # - Числовые столбцы: средним значением или медианой \n",
    "    for col in df.select_dtypes(include=np.number): \n",
    "        df[col].fillna(df[col].mean(), inplace=True)  # Замена пропусков средним \n",
    "    # - Текстовые столбцы: \"Unknown\" или другим подходящим значением \n",
    "    for col in df.select_dtypes(include=object): \n",
    "        df[col].fillna(\"Unknown\", inplace=True) \n",
    " \n",
    "    # 2. Проверка на выбросы: \n",
    "    print(\"\\nПроверка на выбросы:\") \n",
    "    for col in df.select_dtypes(include=np.number): \n",
    "        Q1 = df[col].quantile(0.25) \n",
    "        Q3 = df[col].quantile(0.75) \n",
    "        IQR = Q3 - Q1 \n",
    "        lower_bound = Q1 - 1.5 * IQR \n",
    "        upper_bound = Q3 + 1.5 * IQR \n",
    "        print(f\"Выбросы в '{col}':\") \n",
    "        print(f\"  Нижняя граница: {lower_bound}\") \n",
    "        print(f\"  Верхняя граница: {upper_bound}\") \n",
    "        df = df[(df[col] >= lower_bound) & (df[col] <= upper_bound)]  # Удаление выбросов \n",
    " \n",
    "    # 3. Проверка на ошибки: \n",
    "    #  - Проверка типа данных: \n",
    "    #     - Преобразование в нужный тип данных, если это возможно (например, \"Номер телефона\" в числовой) \n",
    "    #     - Проверка значений на соответствие ограничениям (например, \"Количество комнат\" > 0) \n",
    "    #  - Проверка на дубликаты: \n",
    "    #     - Удаление дубликатов, если они есть \n",
    "    #  - Проверка на некорректные значения: \n",
    "    #     - Замена некорректных значений на \"Unknown\" или на значение по умолчанию \n",
    "    #  - Проверка на логические ошибки: \n",
    "    #     - Проверка на несоответствие значений в разных столбцах (например, \"Площадь\" < \"Количество комнат\") \n",
    " \n",
    "    # ... (Добавьте свою логику проверки и обработки ошибок) \n",
    " \n",
    "    print(\"\\nДанные проверены и обработаны.\") \n",
    "    return df \n",
    " \n",
    "# Пример использования: \n",
    "df = pd.read_csv(\"dataa.csv\") \n",
    "df = check_and_handle_data(df)"
   ]
  },
  {
   "cell_type": "code",
   "execution_count": null,
   "metadata": {},
   "outputs": [],
   "source": []
  }
 ],
 "metadata": {
  "kernelspec": {
   "display_name": ".venv",
   "language": "python",
   "name": "python3"
  },
  "language_info": {
   "codemirror_mode": {
    "name": "ipython",
    "version": 3
   },
   "file_extension": ".py",
   "mimetype": "text/x-python",
   "name": "python",
   "nbconvert_exporter": "python",
   "pygments_lexer": "ipython3",
   "version": "3.12.7"
  }
 },
 "nbformat": 4,
 "nbformat_minor": 2
}
